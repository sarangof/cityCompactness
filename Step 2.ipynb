{
 "cells": [
  {
   "cell_type": "code",
   "execution_count": 7,
   "metadata": {
    "collapsed": true
   },
   "outputs": [],
   "source": [
    "import rasterio\n",
    "from rasterio.warp import reproject\n",
    "import rasterio.tools.mask\n",
    "import numpy as np\n",
    "import fiona\n",
    "import matplotlib.pyplot as plt\n",
    "import geopandas as gpd\n",
    "from osgeo import gdal,osr\n",
    "from fiona.crs import from_epsg\n",
    "from shapely.geometry import Point,mapping, Polygon\n",
    "import os\n",
    "import subprocess\n",
    "%matplotlib inline"
   ]
  },
  {
   "cell_type": "code",
   "execution_count": 8,
   "metadata": {
    "collapsed": true
   },
   "outputs": [],
   "source": [
    "# En el caso de Lumbumbashi no necesito mucha área, pero es bueno para implementar el asunto de la precisión\n",
    "# Comparar con número inizcial de cuadritos y ya - esa es el área a llenar.\n",
    "# WHY IS THE INITIAL RASTER BETTER THAN THE REPROJECTIONÇ\n",
    "# WHAT IS THE DIFFERENCE BETWEEN NP.PI TIMES RADIUS SQUARE AND BUFFER.AREA????"
   ]
  },
  {
   "cell_type": "markdown",
   "metadata": {},
   "source": [
    "127: not known\n",
    "1: Open\n",
    "2: Slope\n",
    "3: Water\n",
    "4: built\n",
    "\n",
    "Original number for Lubumbashi 0.86\n",
    "\n",
    "1. Read result raster,urban extent and EAC.\n",
    "2. Crop raster in 1. with EAC.\n",
    "3. Count number of pixels that are 2 or 3. That will be the number of missing pixels. A simple proportion will tell how many extra pixels are needed to account for 2 or 3 (assuming no spatial autocorrelation).\n",
    "4. Extend the radius of the EAC. The new radius will be sqrt(Area/pi) where area = (original number of pixels + new number of pixels)*resolution. (Don't change resolution because it only adds noise).\n",
    "(The precision should be defined by the minimum radius needed to add a new layer of pixels around the circle. Not sure if this is simple).\n",
    "5. (STOP) Increase by (new number of pixels)*resolution until there are no missing numbers. \n",
    "6. Calculate index with new radius."
   ]
  },
  {
   "cell_type": "code",
   "execution_count": 9,
   "metadata": {
    "collapsed": true
   },
   "outputs": [],
   "source": [
    "root_dir = os.getcwd()\n",
    "filedir = root_dir+'/urban-expansion/Compactness/data-boundaries_allcities'\n",
    "city = 'Lubumbashi'\n",
    "\n",
    "city_path = filedir+\"/\"+str(city)+\"/\"\n",
    "centroid_path = city_path + \"Centroid\"\n",
    "urban_extent_path = city_path + \"Extent\"\n",
    "urban_extent_t3 = gpd.read_file(city_path+'urban_edge_t3.shp')"
   ]
  },
  {
   "cell_type": "code",
   "execution_count": 10,
   "metadata": {
    "collapsed": true
   },
   "outputs": [],
   "source": [
    "# I HAVE TO DO THIS BASED ON AREA AND NOT PIXELS!!!!\n",
    "# WHAT ARE THE TWO AREAS I SHOULD BE COMPARING? AREA DEL URBAN EXTENT/CIRCULO CON AREA OCUPADA POR OBSTACULOS\n",
    "# CUANDO EL AREA SIN OBSTACULOS SEA IGUAL AL AREA DEL URBAN EXTENT, PARAR."
   ]
  },
  {
   "cell_type": "code",
   "execution_count": 11,
   "metadata": {
    "collapsed": false
   },
   "outputs": [],
   "source": [
    "def new_radius(gdal_raster,urban_extent):\n",
    "    initial_raster = gdal_raster.ReadAsArray()\n",
    "    \n",
    "    A = ((initial_raster==1)|(initial_raster==4)) # valid pixels\n",
    "    A_p = ((initial_raster==2)|(initial_raster==3)) # missing pixels\n",
    "    print(A_p.sum())\n",
    "    B = (initial_raster!=127) # total (initial) number of pixels\n",
    "    needed_pixels = float(float(A.sum())/float(B.sum()))*float(A_p.sum())\n",
    "    \n",
    "    initial_area = (gdal_raster.GetGeoTransform()[1]*-gdal_raster.GetGeoTransform()[5])*(B.sum())\n",
    "    ue_area_original = urban_extent.area.sum()\n",
    "    needed_area = (gdal_raster.GetGeoTransform()[1]*-gdal_raster.GetGeoTransform()[5])*needed_pixels\n",
    "    radius_delta = np.sqrt(float(needed_area)/np.pi)\n",
    "    initial_radius = np.sqrt(urban_extent.area.sum()/np.pi)#np.sqrt(float(initial_area)/np.pi)\n",
    "    return radius_delta, initial_radius"
   ]
  },
  {
   "cell_type": "code",
   "execution_count": null,
   "metadata": {
    "collapsed": true
   },
   "outputs": [],
   "source": []
  },
  {
   "cell_type": "code",
   "execution_count": null,
   "metadata": {
    "collapsed": false
   },
   "outputs": [],
   "source": []
  },
  {
   "cell_type": "code",
   "execution_count": null,
   "metadata": {
    "collapsed": false
   },
   "outputs": [],
   "source": []
  },
  {
   "cell_type": "code",
   "execution_count": 13,
   "metadata": {
    "collapsed": false
   },
   "outputs": [
    {
     "name": "stdout",
     "output_type": "stream",
     "text": [
      "57\n",
      "target area\n",
      "232065917.011\n",
      "new valid area\n",
      "231992884.27\n",
      "57\n"
     ]
    },
    {
     "data": {
      "image/png": "[encoded data removed]",
      "text/plain": [
       "<matplotlib.figure.Figure at 0x115c2dfd0>"
      ]
     },
     "metadata": {},
     "output_type": "display_data"
    }
   ],
   "source": [
    "# -- 1.\n",
    "# Adjust this for generalization.\n",
    "input_raster = \"1513_Lubumbashi/Lubumbashi_Result.img\" \n",
    "output_raster = \"1513_Lubumbashi/Lubumbashi_Result_cut.img\"\n",
    "output_raster_2 = \"1513_Lubumbashi/Lubumbashi_Result_cut_2.img\"\n",
    "input_shp = \"urban-expansion/Compactness/data-boundaries_allcities/Lubumbashi/Centroid/EAC_all_t3.shp\"\n",
    "urban_extent_t3 = gpd.read_file(city_path+'/urban_edge_t3.shp')\n",
    "EAC_all_t3 = gpd.read_file(\"urban-expansion/Compactness/data-boundaries_allcities/Lubumbashi/Centroid/EAC_all_t3_project.shp\")\n",
    "\n",
    "## -- 2.\n",
    "dss = gdal.Open(input_raster)\n",
    "plt.imshow(dss.ReadAsArray(),cmap='BuPu_r')\n",
    "ds=gdal.Warp(output_raster,\n",
    "             dss,\n",
    "             cutlineDSName = input_shp)\n",
    "plt.imshow(ds.ReadAsArray(),cmap='BuPu_r')\n",
    "    \n",
    "initial_raster = ds.ReadAsArray()\n",
    "target_area = ((initial_raster!=127)).sum()*(ds.GetGeoTransform()[1]*-ds.GetGeoTransform()[5])\n",
    "previous_valid_area = target_area\n",
    "\n",
    "## -- 3. and .4\n",
    "radius_delta,initial_radius = new_radius(ds,urban_extent_t3)\n",
    "\n",
    "\n",
    "# Need to save and project this beauty\n",
    "new_circle = EAC_all_t3['geometry'][0].centroid.buffer((initial_radius)+radius_delta/1000)\n",
    "\n",
    "schema = {\n",
    "    'geometry': 'Polygon',\n",
    "    'properties': {'id': 'int'},\n",
    "}\n",
    "\n",
    "with fiona.open(centroid_path+'/new_circle.shp', 'w', 'ESRI Shapefile', schema, crs=EAC_all_t3.crs['init']) as c:\n",
    "    c.write({\n",
    "        'geometry': mapping(new_circle),\n",
    "        'properties': {'id': 123},\n",
    "    })\n",
    "    \n",
    "subprocess.call('''ogr2ogr -clipsrc '''+centroid_path+'''/new_circle.shp '''+centroid_path+'''/clipped_extent_t3_all_iterative.shp '''+urban_extent_path+'''/urban_extent_t3_project.shp ''',shell=True)\n",
    "#clipped_extent_t3_all_iterative = gpd.read_file(centroid_path+'/clipped_extent_t3_all_iterative.shp ')\n",
    "\n",
    "print(\"target area\")\n",
    "print(target_area)\n",
    "\n",
    "\n",
    "## -- 5. \n",
    "i = 3\n",
    "output_raster_2 = \"1513_Lubumbashi/Lubumbashi_Result_cut_2.img\"\n",
    "ds_2 = gdal.Warp(output_raster_2,\n",
    "                 dss,\n",
    "                 cutlineDSName = centroid_path+'/new_circle.shp')\n",
    "\n",
    "second_raster = ds_2.ReadAsArray()\n",
    "new_valid_area = ((second_raster==4)|(second_raster==1)).sum()*(ds_2.GetGeoTransform()[1]*-ds_2.GetGeoTransform()[5])\n",
    "\n",
    "while ((np.abs(new_valid_area - target_area) < urban_extent_t3.area.sum()*0.0005) & (new_valid_area!=previous_valid_area)):\n",
    "    print(\"new valid area\")\n",
    "    print(((second_raster==4)|(second_raster==1)).sum()*(ds_2.GetGeoTransform()[1]*-ds_2.GetGeoTransform()[5]))\n",
    "    ## -- 6.\n",
    "    \n",
    "    radius_delta,initial_radius = new_radius(ds_2,urban_extent_t3)\n",
    "    \n",
    "    # Need to save and project this beauty\n",
    "    new_circle = EAC_all_t3['geometry'][0].centroid.buffer((initial_radius)+(i-1)*radius_delta)\n",
    "\n",
    "    schema = {\n",
    "        'geometry': 'Polygon',\n",
    "        'properties': {'id': 'int'},\n",
    "    }\n",
    "\n",
    "    with fiona.open(centroid_path+'/new_circle.shp', 'w', 'ESRI Shapefile', schema, crs=EAC_all_t3.crs['init']) as c:\n",
    "        c.write({\n",
    "            'geometry': mapping(new_circle),\n",
    "            'properties': {'id': 123},\n",
    "        })\n",
    "\n",
    "    subprocess.call('''ogr2ogr -clipsrc '''+centroid_path+'''/new_circle.shp '''+centroid_path+'''/clipped_extent_t3_all_iterative.shp '''+urban_extent_path+'''/urban_extent_t3_project.shp ''',shell=True)\n",
    "  \n",
    "    output_raster_2 = \"1513_Lubumbashi/Lubumbashi_Result_cut_\"+str(i)+\".img\"\n",
    "    ds_2 = gdal.Warp(output_raster_2,\n",
    "                     dss,\n",
    "                     cutlineDSName = centroid_path+'/new_circle.shp')\n",
    "\n",
    "    second_raster = ds_2.ReadAsArray()\n",
    "    previous_valid_area = new_valid_area\n",
    "    new_valid_area = ((second_raster==4)|(second_raster==1)).sum()*(ds_2.GetGeoTransform()[1]*-ds_2.GetGeoTransform()[5])\n",
    "    \n",
    "    i += 1\n",
    "    #EI_t3_centroid = 1.*((clipped_extent_t3_all_iterative['geometry'].area.sum()/urban_extent_t3['geometry'].area.sum()))\n",
    "    \n"
   ]
  },
  {
   "cell_type": "code",
   "execution_count": null,
   "metadata": {
    "collapsed": false
   },
   "outputs": [],
   "source": [
    "(np.abs(new_valid_area - target_area))"
   ]
  },
  {
   "cell_type": "code",
   "execution_count": null,
   "metadata": {
    "collapsed": false
   },
   "outputs": [],
   "source": [
    "urban_extent_t3.area.sum()*0.00000000000000000005"
   ]
  },
  {
   "cell_type": "code",
   "execution_count": null,
   "metadata": {
    "collapsed": false
   },
   "outputs": [],
   "source": [
    "(np.abs(new_valid_area - target_area) < urban_extent_t3.area.sum()*0.0005)"
   ]
  },
  {
   "cell_type": "code",
   "execution_count": null,
   "metadata": {
    "collapsed": true
   },
   "outputs": [],
   "source": []
  },
  {
   "cell_type": "code",
   "execution_count": null,
   "metadata": {
    "collapsed": true
   },
   "outputs": [],
   "source": []
  },
  {
   "cell_type": "code",
   "execution_count": 14,
   "metadata": {
    "collapsed": false
   },
   "outputs": [
    {
     "name": "stdout",
     "output_type": "stream",
     "text": [
      "60\n",
      "new valid area\n",
      "232079062.904\n",
      "57\n",
      "new valid area\n",
      "231985580.996\n",
      "57\n"
     ]
    }
   ],
   "source": [
    "j = 1\n",
    "    \n",
    "radius_delta,initial_radius = new_radius(ds_2,urban_extent_t3)\n",
    "\n",
    "# Need to save and project this beauty\n",
    "new_circle = EAC_all_t3['geometry'][0].centroid.buffer((initial_radius)+((radius_delta)/(100**(j))))\n",
    "\n",
    "\n",
    "schema = {\n",
    "    'geometry': 'Polygon',\n",
    "    'properties': {'id': 'int'},\n",
    "}\n",
    "\n",
    "with fiona.open(centroid_path+'/new_circle.shp', 'w', 'ESRI Shapefile', schema, crs=EAC_all_t3.crs['init']) as c:\n",
    "    c.write({\n",
    "        'geometry': mapping(new_circle),\n",
    "        'properties': {'id': 123},\n",
    "    })\n",
    "\n",
    "subprocess.call('''ogr2ogr -clipsrc '''+centroid_path+'''/new_circle.shp '''+centroid_path+'''/clipped_extent_t3_all_iterative.shp '''+urban_extent_path+'''/urban_extent_t3_project.shp ''',shell=True)\n",
    "\n",
    "output_raster_2 = \"1513_Lubumbashi/Lubumbashi_Result_cut_\"+str(i)+\".img\"\n",
    "ds_2 = gdal.Warp(output_raster_2,\n",
    "                 dss,\n",
    "                 cutlineDSName = centroid_path+'/new_circle.shp')\n",
    "\n",
    "second_raster = ds_2.ReadAsArray()\n",
    "previous_valid_area = new_valid_area\n",
    "new_valid_area = ((second_raster==4)|(second_raster==1)).sum()*(ds_2.GetGeoTransform()[1]*-ds_2.GetGeoTransform()[5])\n",
    "i += 1\n",
    "j += 1\n",
    "    \n",
    "while ((np.abs(new_valid_area- target_area) < urban_extent_t3.area.sum()*0.0005) & (new_valid_area!=previous_valid_area)):\n",
    "\n",
    "    ## -- 6.\n",
    "    print(\"new valid area\")\n",
    "    print(((second_raster==4)|(second_raster==1)).sum()*(ds_2.GetGeoTransform()[1]*-ds_2.GetGeoTransform()[5]))\n",
    "\n",
    "    radius_delta,initial_radius = new_radius(ds_2,urban_extent_t3)\n",
    "    #print(radius_delta,initial_radius)\n",
    "\n",
    "    #print(EAC_all_t3['geometry'].area.sum())\n",
    "    # Need to save and project this beauty\n",
    "    new_circle = EAC_all_t3['geometry'][0].centroid.buffer((initial_radius)+((radius_delta)/(10000**(j))))\n",
    "    #print(new_circle.area)\n",
    "\n",
    "    schema = {\n",
    "        'geometry': 'Polygon',\n",
    "        'properties': {'id': 'int'},\n",
    "    }\n",
    "\n",
    "    with fiona.open(centroid_path+'/new_circle.shp', 'w', 'ESRI Shapefile', schema, crs=EAC_all_t3.crs['init']) as c:\n",
    "        c.write({\n",
    "            'geometry': mapping(new_circle),\n",
    "            'properties': {'id': 123},\n",
    "        })\n",
    "\n",
    "    subprocess.call('''ogr2ogr -clipsrc '''+centroid_path+'''/new_circle.shp '''+centroid_path+'''/clipped_extent_t3_all_iterative.shp '''+urban_extent_path+'''/urban_extent_t3_project.shp ''',shell=True)\n",
    "  \n",
    "    output_raster_2 = \"1513_Lubumbashi/Lubumbashi_Result_cut_\"+str(i)+\".img\"\n",
    "    ds_2 = gdal.Warp(output_raster_2,\n",
    "                     dss,\n",
    "                     cutlineDSName = centroid_path+'/new_circle.shp')\n",
    "\n",
    "    second_raster = ds_2.ReadAsArray()\n",
    "    previous_valid_area = new_valid_area\n",
    "    new_valid_area = ((second_raster==4)|(second_raster==1)).sum()*(ds_2.GetGeoTransform()[1]*-ds_2.GetGeoTransform()[5])\n",
    "    i += 1\n",
    "    j += 1\n",
    "    #EI_t3_centroid = 1.*((clipped_extent_t3_all_iterative['geometry'].area.sum()/urban_extent_t3['geometry'].area.sum()))"
   ]
  },
  {
   "cell_type": "code",
   "execution_count": 115,
   "metadata": {
    "collapsed": false
   },
   "outputs": [
    {
     "data": {
      "text/plain": [
       "True"
      ]
     },
     "execution_count": 115,
     "metadata": {},
     "output_type": "execute_result"
    }
   ],
   "source": [
    "((np.abs(new_valid_area- target_area) < urban_extent_t3.area.sum()*0.0005) & (new_valid_area!=previous_valid_area))"
   ]
  },
  {
   "cell_type": "code",
   "execution_count": 114,
   "metadata": {
    "collapsed": false
   },
   "outputs": [
    {
     "data": {
      "text/plain": [
       "232065917.01104888"
      ]
     },
     "execution_count": 114,
     "metadata": {},
     "output_type": "execute_result"
    }
   ],
   "source": [
    "previous_valid_area"
   ]
  },
  {
   "cell_type": "code",
   "execution_count": 55,
   "metadata": {
    "collapsed": false
   },
   "outputs": [
    {
     "data": {
      "text/plain": [
       "8395.1239409899172"
      ]
     },
     "execution_count": 55,
     "metadata": {},
     "output_type": "execute_result"
    }
   ],
   "source": [
    "initial_radius + (radius_delta/100000000000.)"
   ]
  },
  {
   "cell_type": "code",
   "execution_count": 51,
   "metadata": {
    "collapsed": false
   },
   "outputs": [
    {
     "data": {
      "text/plain": [
       "221057985.21642193"
      ]
     },
     "execution_count": 51,
     "metadata": {},
     "output_type": "execute_result"
    }
   ],
   "source": [
    "EAC_all_t3.area.sum()"
   ]
  },
  {
   "cell_type": "code",
   "execution_count": 52,
   "metadata": {
    "collapsed": false
   },
   "outputs": [
    {
     "data": {
      "text/plain": [
       "221413500.0"
      ]
     },
     "execution_count": 52,
     "metadata": {},
     "output_type": "execute_result"
    }
   ],
   "source": [
    "urban_extent_t3.area.sum()"
   ]
  },
  {
   "cell_type": "code",
   "execution_count": 88,
   "metadata": {
    "collapsed": false
   },
   "outputs": [
    {
     "data": {
      "text/plain": [
       "250332866.2308287"
      ]
     },
     "execution_count": 88,
     "metadata": {},
     "output_type": "execute_result"
    }
   ],
   "source": [
    "((second_raster==4)|(second_raster==1)).sum()*(ds_2.GetGeoTransform()[1]*-ds_2.GetGeoTransform()[5])"
   ]
  },
  {
   "cell_type": "code",
   "execution_count": 62,
   "metadata": {
    "collapsed": false
   },
   "outputs": [
    {
     "data": {
      "text/plain": [
       "1.047753622276212"
      ]
     },
     "execution_count": 62,
     "metadata": {},
     "output_type": "execute_result"
    }
   ],
   "source": [
    "243147905.15517727/232065917.01104888"
   ]
  },
  {
   "cell_type": "code",
   "execution_count": 82,
   "metadata": {
    "collapsed": false
   },
   "outputs": [
    {
     "data": {
      "text/plain": [
       "22141.350000000002"
      ]
     },
     "execution_count": 82,
     "metadata": {},
     "output_type": "execute_result"
    }
   ],
   "source": [
    "urban_extent_t3.area.sum()*0.00001"
   ]
  },
  {
   "cell_type": "code",
   "execution_count": 89,
   "metadata": {
    "collapsed": false
   },
   "outputs": [
    {
     "data": {
      "text/plain": [
       "232065917.01104888"
      ]
     },
     "execution_count": 89,
     "metadata": {},
     "output_type": "execute_result"
    }
   ],
   "source": [
    "((initial_raster!=127)).sum()*(ds.GetGeoTransform()[1]*-ds.GetGeoTransform()[5])"
   ]
  },
  {
   "cell_type": "code",
   "execution_count": 79,
   "metadata": {
    "collapsed": false
   },
   "outputs": [
    {
     "data": {
      "text/plain": [
       "-73032.741163343191"
      ]
     },
     "execution_count": 79,
     "metadata": {},
     "output_type": "execute_result"
    }
   ],
   "source": [
    "((second_raster==4)|(second_raster==1)).sum()*(ds_2.GetGeoTransform()[1]*-ds_2.GetGeoTransform()[5]) - ((initial_raster!=127)).sum()*(ds.GetGeoTransform()[1]*-ds.GetGeoTransform()[5])"
   ]
  },
  {
   "cell_type": "code",
   "execution_count": 29,
   "metadata": {
    "collapsed": false
   },
   "outputs": [
    {
     "data": {
      "text/plain": [
       "1878.1656968562766"
      ]
     },
     "execution_count": 29,
     "metadata": {},
     "output_type": "execute_result"
    }
   ],
   "source": [
    "np.sqrt((((second_raster==4)|(second_raster==1)).sum()*(ds_2.GetGeoTransform()[1]*-ds_2.GetGeoTransform()[5]) - ((initial_raster!=127)).sum()*(ds.GetGeoTransform()[1]*-ds.GetGeoTransform()[5]))/np.pi)"
   ]
  },
  {
   "cell_type": "code",
   "execution_count": 6,
   "metadata": {
    "collapsed": false
   },
   "outputs": [
    {
     "data": {
      "text/plain": [
       "<osgeo.gdal.Dataset; proxy of <Swig Object of type 'GDALDatasetShadow *' at 0x10dbc0090> >"
      ]
     },
     "execution_count": 6,
     "metadata": {},
     "output_type": "execute_result"
    }
   ],
   "source": [
    "gdal.Warp(output_raster_2,\n",
    "          dss,\n",
    "          cutlineDSName = centroid_path+'/new_circle.shp')\n"
   ]
  },
  {
   "cell_type": "code",
   "execution_count": 7,
   "metadata": {
    "collapsed": false
   },
   "outputs": [
    {
     "data": {
      "text/plain": [
       "<matplotlib.image.AxesImage at 0x11eac4390>"
      ]
     },
     "execution_count": 7,
     "metadata": {},
     "output_type": "execute_result"
    },
    {
     "data": {
      "image/png": "[encoded data removed]",
      "text/plain": [
       "<matplotlib.figure.Figure at 0x10dbc2310>"
      ]
     },
     "metadata": {},
     "output_type": "display_data"
    }
   ],
   "source": [
    "plt.imshow(ds.ReadAsArray())"
   ]
  },
  {
   "cell_type": "code",
   "execution_count": 8,
   "metadata": {
    "collapsed": false
   },
   "outputs": [
    {
     "data": {
      "text/plain": [
       "0    POINT (552347.2399649877 -1289177.211115094)\n",
       "dtype: object"
      ]
     },
     "execution_count": 8,
     "metadata": {},
     "output_type": "execute_result"
    }
   ],
   "source": [
    "EAC_all_t3.centroid"
   ]
  },
  {
   "cell_type": "code",
   "execution_count": 9,
   "metadata": {
    "collapsed": false
   },
   "outputs": [
    {
     "data": {
      "text/plain": [
       "231693310.3585004"
      ]
     },
     "execution_count": 9,
     "metadata": {},
     "output_type": "execute_result"
    }
   ],
   "source": [
    "Point([0,0]).buffer(initial_radius).area"
   ]
  },
  {
   "cell_type": "code",
   "execution_count": 10,
   "metadata": {
    "collapsed": false
   },
   "outputs": [
    {
     "data": {
      "text/plain": [
       "231693310.35849977"
      ]
     },
     "execution_count": 10,
     "metadata": {},
     "output_type": "execute_result"
    }
   ],
   "source": [
    "Point([552347.2399649877, -1289177.211115094]).buffer(initial_radius).area"
   ]
  },
  {
   "cell_type": "code",
   "execution_count": 11,
   "metadata": {
    "collapsed": false
   },
   "outputs": [
    {
     "data": {
      "text/plain": [
       "231693310.35849977"
      ]
     },
     "execution_count": 11,
     "metadata": {},
     "output_type": "execute_result"
    }
   ],
   "source": [
    "EAC_all_t3.centroid.buffer(initial_radius).area[0]"
   ]
  },
  {
   "cell_type": "code",
   "execution_count": 12,
   "metadata": {
    "collapsed": false
   },
   "outputs": [
    {
     "data": {
      "text/plain": [
       "(array('d', [552347.2399649876]), array('d', [-1289177.2111150946]))"
      ]
     },
     "execution_count": 12,
     "metadata": {},
     "output_type": "execute_result"
    }
   ],
   "source": [
    "new_circle.centroid.coords.xy"
   ]
  },
  {
   "cell_type": "code",
   "execution_count": 13,
   "metadata": {
    "collapsed": false
   },
   "outputs": [
    {
     "data": {
      "text/plain": [
       "232065917.01104888"
      ]
     },
     "execution_count": 13,
     "metadata": {},
     "output_type": "execute_result"
    }
   ],
   "source": [
    "np.pi*(initial_radius)**2"
   ]
  },
  {
   "cell_type": "code",
   "execution_count": 14,
   "metadata": {
    "collapsed": false
   },
   "outputs": [
    {
     "data": {
      "text/plain": [
       "240938741.88002008"
      ]
     },
     "execution_count": 14,
     "metadata": {},
     "output_type": "execute_result"
    }
   ],
   "source": [
    "np.pi*(initial_radius+radius_delta)**2"
   ]
  },
  {
   "cell_type": "code",
   "execution_count": 15,
   "metadata": {
    "collapsed": false
   },
   "outputs": [
    {
     "data": {
      "text/plain": [
       "240551888.9580683"
      ]
     },
     "execution_count": 15,
     "metadata": {},
     "output_type": "execute_result"
    }
   ],
   "source": [
    "new_circle.area"
   ]
  },
  {
   "cell_type": "code",
   "execution_count": 16,
   "metadata": {
    "collapsed": false
   },
   "outputs": [
    {
     "data": {
      "text/plain": [
       "8750.4310976967627"
      ]
     },
     "execution_count": 16,
     "metadata": {},
     "output_type": "execute_result"
    }
   ],
   "source": [
    "np.sqrt((new_circle.area)/np.pi)"
   ]
  },
  {
   "cell_type": "code",
   "execution_count": 17,
   "metadata": {
    "collapsed": false
   },
   "outputs": [
    {
     "data": {
      "text/plain": [
       "8594.7004386961617"
      ]
     },
     "execution_count": 17,
     "metadata": {},
     "output_type": "execute_result"
    }
   ],
   "source": [
    "initial_radius"
   ]
  },
  {
   "cell_type": "code",
   "execution_count": 18,
   "metadata": {
    "collapsed": false
   },
   "outputs": [
    {
     "data": {
      "text/plain": [
       "8757.4644449803454"
      ]
     },
     "execution_count": 18,
     "metadata": {},
     "output_type": "execute_result"
    }
   ],
   "source": [
    "initial_radius+radius_delta"
   ]
  },
  {
   "cell_type": "code",
   "execution_count": 19,
   "metadata": {
    "collapsed": false
   },
   "outputs": [
    {
     "data": {
      "text/plain": [
       "19543.228151313251"
      ]
     },
     "execution_count": 19,
     "metadata": {},
     "output_type": "execute_result"
    }
   ],
   "source": [
    "# Initial circle - 5x the area\n",
    "np.sqrt(((ds.GetGeoTransform()[1]*-ds.GetGeoTransform()[5])*np.prod((dss.ReadAsArray()!=127).sum()))/np.pi)"
   ]
  },
  {
   "cell_type": "code",
   "execution_count": null,
   "metadata": {
    "collapsed": false
   },
   "outputs": [],
   "source": []
  },
  {
   "cell_type": "code",
   "execution_count": 20,
   "metadata": {
    "collapsed": false
   },
   "outputs": [
    {
     "data": {
      "text/plain": [
       "0"
      ]
     },
     "execution_count": 20,
     "metadata": {},
     "output_type": "execute_result"
    }
   ],
   "source": [
    "subprocess.call('''ogr2ogr -clipsrc '''+centroid_path+'''/new_circle.shp '''+centroid_path+'''/clipped_extent_t3_all_iterative.shp '''+urban_extent_path+'''/urban_extent_t3_project.shp ''',shell=True)"
   ]
  },
  {
   "cell_type": "code",
   "execution_count": 21,
   "metadata": {
    "collapsed": false
   },
   "outputs": [
    {
     "data": {
      "image/svg+xml": [
       "<svg xmlns=\"http://www.w3.org/2000/svg\" xmlns:xlink=\"http://www.w3.org/1999/xlink\" width=\"300\" height=\"300\" viewBox=\"542889.178364 -1298635.27272 18916.1232012 18916.1232012\" preserveAspectRatio=\"xMinYMin meet\"><g transform=\"matrix(1,0,0,-1,0,-2578354.42223)\"><path fill-rule=\"evenodd\" fill=\"#66cc99\" stroke=\"#555555\" stroke-width=\"126.107488008\" opacity=\"0.6\" d=\"M 561104.70441,-1289177.21112 L 561062.534825,-1290035.59274 L 560936.432186,-1290885.70767 L 560727.610931,-1291719.36886 L 560438.082122,-1292528.54767 L 560070.634081,-1293305.45128 L 559628.805532,-1294042.59768 L 559116.851526,-1294732.88775 L 558539.70246,-1295369.67361 L 557902.916595,-1295946.82268 L 557212.626527,-1296458.77668 L 556475.480127,-1296900.60523 L 555698.576518,-1297268.05327 L 554889.397705,-1297557.58208 L 554055.736524,-1297766.40334 L 553205.621586,-1297892.50598 L 552347.239965,-1297934.67556 L 551488.858344,-1297892.50598 L 550638.743406,-1297766.40334 L 549805.082225,-1297557.58208 L 548995.903412,-1297268.05327 L 548218.999803,-1296900.60523 L 547481.853403,-1296458.77668 L 546791.563335,-1295946.82268 L 546154.77747,-1295369.67361 L 545577.628404,-1294732.88775 L 545065.674398,-1294042.59768 L 544623.845849,-1293305.45128 L 544256.397808,-1292528.54767 L 543966.868999,-1291719.36886 L 543758.047744,-1290885.70767 L 543631.945105,-1290035.59274 L 543589.77552,-1289177.21112 L 543631.945105,-1288318.82949 L 543758.047744,-1287468.71456 L 543966.868999,-1286635.05338 L 544256.397808,-1285825.87456 L 544623.845849,-1285048.97095 L 545065.674398,-1284311.82455 L 545577.628404,-1283621.53448 L 546154.77747,-1282984.74862 L 546791.563335,-1282407.59955 L 547481.853403,-1281895.64555 L 548218.999803,-1281453.817 L 548995.903412,-1281086.36896 L 549805.082225,-1280796.84015 L 550638.743406,-1280588.01889 L 551488.858344,-1280461.91626 L 552347.239965,-1280419.74667 L 553205.621586,-1280461.91626 L 554055.736524,-1280588.01889 L 554889.397705,-1280796.84015 L 555698.576518,-1281086.36896 L 556475.480127,-1281453.817 L 557212.626527,-1281895.64555 L 557902.916595,-1282407.59955 L 558539.70246,-1282984.74862 L 559116.851526,-1283621.53448 L 559628.805532,-1284311.82455 L 560070.634081,-1285048.97095 L 560438.082122,-1285825.87456 L 560727.610931,-1286635.05338 L 560936.432186,-1287468.71456 L 561062.534825,-1288318.82949 L 561104.70441,-1289177.21112 z\" /></g></svg>"
      ],
      "text/plain": [
       "<shapely.geometry.polygon.Polygon at 0x11dbeef90>"
      ]
     },
     "execution_count": 21,
     "metadata": {},
     "output_type": "execute_result"
    }
   ],
   "source": [
    "new_circle"
   ]
  },
  {
   "cell_type": "code",
   "execution_count": 22,
   "metadata": {
    "collapsed": false
   },
   "outputs": [
    {
     "data": {
      "text/plain": [
       "8750.4310976967627"
      ]
     },
     "execution_count": 22,
     "metadata": {},
     "output_type": "execute_result"
    }
   ],
   "source": [
    "np.sqrt(new_circle.area/np.pi)"
   ]
  },
  {
   "cell_type": "code",
   "execution_count": 23,
   "metadata": {
    "collapsed": false
   },
   "outputs": [
    {
     "data": {
      "text/plain": [
       "8395.1239409882892"
      ]
     },
     "execution_count": 23,
     "metadata": {},
     "output_type": "execute_result"
    }
   ],
   "source": [
    "np.sqrt(urban_extent_t3.area.sum()/np.pi)"
   ]
  },
  {
   "cell_type": "code",
   "execution_count": null,
   "metadata": {
    "collapsed": true
   },
   "outputs": [],
   "source": []
  },
  {
   "cell_type": "code",
   "execution_count": 15,
   "metadata": {
    "collapsed": false
   },
   "outputs": [
    {
     "data": {
      "text/plain": [
       "0.2549019607843137"
      ]
     },
     "execution_count": 15,
     "metadata": {},
     "output_type": "execute_result"
    }
   ],
   "source": [
    "(0.51 -0.38)/.51"
   ]
  },
  {
   "cell_type": "code",
   "execution_count": 16,
   "metadata": {
    "collapsed": false
   },
   "outputs": [
    {
     "data": {
      "text/plain": [
       "0.2794117647058824"
      ]
     },
     "execution_count": 16,
     "metadata": {},
     "output_type": "execute_result"
    }
   ],
   "source": [
    "(0.68 -0.49)/.68"
   ]
  },
  {
   "cell_type": "code",
   "execution_count": 17,
   "metadata": {
    "collapsed": false
   },
   "outputs": [
    {
     "data": {
      "text/plain": [
       "0.27272727272727276"
      ]
     },
     "execution_count": 17,
     "metadata": {},
     "output_type": "execute_result"
    }
   ],
   "source": [
    "(0.66 -0.48)/.66"
   ]
  }
 ],
 "metadata": {
  "kernelspec": {
   "display_name": "Python 2",
   "language": "python",
   "name": "python2"
  },
  "language_info": {
   "codemirror_mode": {
    "name": "ipython",
    "version": 2
   },
   "file_extension": ".py",
   "mimetype": "text/x-python",
   "name": "python",
   "nbconvert_exporter": "python",
   "pygments_lexer": "ipython2",
   "version": "2.7.13"
  }
 },
 "nbformat": 4,
 "nbformat_minor": 2
}
